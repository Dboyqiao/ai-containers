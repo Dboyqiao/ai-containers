{
 "cells": [
  {
   "cell_type": "markdown",
   "metadata": {},
   "source": [
    "Intel Extension for PyTorch"
   ]
  },
  {
   "cell_type": "code",
   "execution_count": null,
   "metadata": {},
   "outputs": [],
   "source": [
    "import torch\n",
    "print(torch.device('xpu'))\n",
    "     "
   ]
  },
  {
   "cell_type": "code",
   "execution_count": null,
   "metadata": {},
   "outputs": [],
   "source": [
    "import intel_extension_for_pytorch as ipex\n",
    "print(ipex.xpu.is_available())\n",
    "print(ipex.xpu.has_onemkl())\n",
    "print(torch.__version__); print(ipex.__version__)\n",
    "[print(f'[{i}]: {ipex.xpu.get_device_properties(i)}') for i in range(ipex.xpu.device_count())]"
   ]
  }
 ],
 "metadata": {
  "language_info": {
   "name": "python"
  },
  "orig_nbformat": 4
 },
 "nbformat": 4,
 "nbformat_minor": 2
}
